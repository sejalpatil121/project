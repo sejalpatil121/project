{
 "cells": [
  {
   "cell_type": "code",
   "execution_count": 1,
   "id": "4225be2e-3a11-45e3-8a4d-438552134ff5",
   "metadata": {},
   "outputs": [
    {
     "name": "stdout",
     "output_type": "stream",
     "text": [
      "age                 0\n",
      "sex                 0\n",
      "steroid             1\n",
      "antivirals          0\n",
      "fatigue             1\n",
      "malaise             1\n",
      "anorexia            1\n",
      "liver_big          10\n",
      "liver_firm         11\n",
      "spleen_palpable     5\n",
      "spiders             5\n",
      "ascites             5\n",
      "varices             5\n",
      "bilirubin           6\n",
      "alk_phosphate      29\n",
      "sgot                4\n",
      "albumin            16\n",
      "protime            67\n",
      "histology           0\n",
      "class               0\n",
      "dtype: int64\n"
     ]
    }
   ],
   "source": [
    "import pandas as pd\n",
    "import numpy as np\n",
    "from sklearn.model_selection import train_test_split\n",
    "from sklearn.preprocessing import LabelEncoder, StandardScaler\n",
    "from sklearn.linear_model import LogisticRegression\n",
    "from sklearn.naive_bayes import GaussianNB\n",
    "from sklearn.metrics import accuracy_score\n",
    "from scipy.stats import zscore\n",
    "\n",
    "df = pd.read_csv('hepatitis_csv.csv')\n",
    "\n",
    "print(df.isnull().sum())"
   ]
  },
  {
   "cell_type": "code",
   "execution_count": 3,
   "id": "82d8b2d3-2e60-4be8-88d8-6a780046d524",
   "metadata": {},
   "outputs": [
    {
     "data": {
      "text/plain": [
       "(155, 20)"
      ]
     },
     "execution_count": 3,
     "metadata": {},
     "output_type": "execute_result"
    }
   ],
   "source": [
    "df.shape"
   ]
  },
  {
   "cell_type": "code",
   "execution_count": 7,
   "id": "626fe482-8fd8-4a8a-a212-9f17634461b2",
   "metadata": {},
   "outputs": [
    {
     "data": {
      "text/plain": [
       "(80, 20)"
      ]
     },
     "execution_count": 7,
     "metadata": {},
     "output_type": "execute_result"
    }
   ],
   "source": [
    "# --- q. Data Cleaning ---\n",
    "df.replace('?', np.nan, inplace=True)\n",
    "df.dropna(inplace=True)  # drop rows with any NA values\n",
    "\n",
    "# Strip whitespace\n",
    "for col in df.select_dtypes(include=['object']).columns:\n",
    "    df[col] = df[col].map(lambda x: x.strip() if isinstance(x, str) else x)\n",
    "\n",
    "# Convert all numeric columns to appropriate type\n",
    "for col in df.columns:\n",
    "    for col in df.columns:\n",
    "        try:\n",
    "            df[col] = pd.to_numeric(df[col])\n",
    "        except:\n",
    "            pass\n",
    "\n",
    "# Remove negative values (if any) from numeric columns\n",
    "for col in df.select_dtypes(include=[np.number]).columns:\n",
    "    df = df[df[col] >= 0]\n",
    "\n",
    "df.shape"
   ]
  },
  {
   "cell_type": "code",
   "execution_count": 8,
   "id": "45172f02-d6b6-41dd-a733-98a8fd6ba9c5",
   "metadata": {},
   "outputs": [
    {
     "data": {
      "text/plain": [
       "(74, 20)"
      ]
     },
     "execution_count": 8,
     "metadata": {},
     "output_type": "execute_result"
    }
   ],
   "source": [
    "# --- r. Error Correction: Remove Outliers using Z-score ---\n",
    "numeric_cols = df.select_dtypes(include=[np.number]).columns\n",
    "z_scores = np.abs(zscore(df[numeric_cols]))\n",
    "df = df[(z_scores < 3).all(axis=1)]\n",
    "\n",
    "df.shape"
   ]
  },
  {
   "cell_type": "code",
   "execution_count": 9,
   "id": "82fe73b7-ae89-4a1b-8f84-5e9a8995676d",
   "metadata": {},
   "outputs": [],
   "source": [
    "# --- s. Data Transformation ---\n",
    "# Encode categorical columns (if any)\n",
    "label_encoders = {}\n",
    "for col in df.select_dtypes(include=['object']).columns:\n",
    "    le = LabelEncoder()\n",
    "    df[col] = le.fit_transform(df[col])\n",
    "    label_encoders[col] = le\n",
    "\n",
    "# Separate features and target\n",
    "X = df.drop('Class', axis=1)\n",
    "y = df['Class']\n",
    "\n",
    "# Normalize features\n",
    "scaler = StandardScaler()\n",
    "X_scaled = scaler.fit_transform(X)\n",
    "\n",
    "# Split data\n",
    "X_train, X_test, y_train, y_test = train_test_split(X_scaled, y, test_size=0.2, random_state=42)\n"
   ]
  },
  {
   "cell_type": "code",
   "execution_count": 10,
   "id": "452d900d-6b20-4416-bffd-d09c8c0a351a",
   "metadata": {},
   "outputs": [],
   "source": [
    "# --- t. Model Building ---\n",
    "\n",
    "# Logistic Regression\n",
    "log_model = LogisticRegression(max_iter=200)\n",
    "log_model.fit(X_train, y_train)\n",
    "log_pred = log_model.predict(X_test)\n",
    "log_acc = accuracy_score(y_test, log_pred) * 100\n",
    "\n",
    "# Naïve Bayes\n",
    "nb_model = GaussianNB()\n",
    "nb_model.fit(X_train, y_train)\n",
    "nb_pred = nb_model.predict(X_test)\n",
    "nb_acc = accuracy_score(y_test, nb_pred) * 100\n"
   ]
  },
  {
   "cell_type": "code",
   "execution_count": 11,
   "id": "59227abc-d546-4de5-86d0-dc797fc039c1",
   "metadata": {},
   "outputs": [
    {
     "name": "stdout",
     "output_type": "stream",
     "text": [
      "=== Hepatitis Dataset Classification ===\n",
      "Logistic Regression Accuracy: 80.00%\n",
      "Naive Bayes Accuracy: 93.33%\n",
      "→ Naive Bayes performed better.\n"
     ]
    }
   ],
   "source": [
    "# --- Results ---\n",
    "print(\"=== Hepatitis Dataset Classification ===\")\n",
    "print(f\"Logistic Regression Accuracy: {log_acc:.2f}%\")\n",
    "print(f\"Naive Bayes Accuracy: {nb_acc:.2f}%\")\n",
    "\n",
    "if log_acc > nb_acc:\n",
    "    print(\"→ Logistic Regression performed better.\")\n",
    "elif nb_acc > log_acc:\n",
    "    print(\"→ Naive Bayes performed better.\")\n",
    "else:\n",
    "    print(\"→ Both models performed equally.\")\n"
   ]
  },
  {
   "cell_type": "code",
   "execution_count": null,
   "id": "7a4f824b-3ad2-4b97-8b4c-5c733359b7f1",
   "metadata": {},
   "outputs": [],
   "source": []
  }
 ],
 "metadata": {
  "kernelspec": {
   "display_name": "Python 3 (ipykernel)",
   "language": "python",
   "name": "python3"
  },
  "language_info": {
   "codemirror_mode": {
    "name": "ipython",
    "version": 3
   },
   "file_extension": ".py",
   "mimetype": "text/x-python",
   "name": "python",
   "nbconvert_exporter": "python",
   "pygments_lexer": "ipython3",
   "version": "3.12.6"
  }
 },
 "nbformat": 4,
 "nbformat_minor": 5
}
