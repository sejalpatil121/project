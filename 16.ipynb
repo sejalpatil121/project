{
 "cells": [
  {
   "cell_type": "code",
   "execution_count": 1,
   "id": "108612d6-580b-480d-bc5c-a339450bd6df",
   "metadata": {},
   "outputs": [
    {
     "name": "stdout",
     "output_type": "stream",
     "text": [
      "    0          1       2             3                4                   5   \\\n",
      "0  age  workclass  fnlwgt     education  educational-num      marital-status   \n",
      "1   25    Private  226802          11th                7       Never-married   \n",
      "2   38    Private   89814       HS-grad                9  Married-civ-spouse   \n",
      "3   28  Local-gov  336951    Assoc-acdm               12  Married-civ-spouse   \n",
      "4   44    Private  160323  Some-college               10  Married-civ-spouse   \n",
      "\n",
      "                  6             7      8       9             10            11  \\\n",
      "0         occupation  relationship   race  gender  capital-gain  capital-loss   \n",
      "1  Machine-op-inspct     Own-child  Black    Male             0             0   \n",
      "2    Farming-fishing       Husband  White    Male             0             0   \n",
      "3    Protective-serv       Husband  White    Male             0             0   \n",
      "4  Machine-op-inspct       Husband  Black    Male          7688             0   \n",
      "\n",
      "               12              13      14  \n",
      "0  hours-per-week  native-country  income  \n",
      "1              40   United-States   <=50K  \n",
      "2              50   United-States   <=50K  \n",
      "3              40   United-States    >50K  \n",
      "4              40   United-States    >50K  \n",
      "0     0\n",
      "1     0\n",
      "2     0\n",
      "3     0\n",
      "4     0\n",
      "5     0\n",
      "6     0\n",
      "7     0\n",
      "8     0\n",
      "9     0\n",
      "10    0\n",
      "11    0\n",
      "12    0\n",
      "13    0\n",
      "14    0\n",
      "dtype: int64\n"
     ]
    }
   ],
   "source": [
    "import pandas as pd\n",
    "import numpy as np\n",
    "from sklearn.model_selection import train_test_split\n",
    "from sklearn.preprocessing import LabelEncoder, StandardScaler\n",
    "from sklearn.linear_model import LogisticRegression\n",
    "from sklearn.naive_bayes import GaussianNB\n",
    "from sklearn.metrics import accuracy_score\n",
    "from scipy.stats import zscore\n",
    "\n",
    "# Load dataset with column names\n",
    "df = pd.read_csv('adult_dataset.csv', header=None)\n",
    "\n",
    "print(df.head())\n",
    "print(df.isnull().sum())"
   ]
  },
  {
   "cell_type": "code",
   "execution_count": 5,
   "id": "464c7e43-abb2-4c25-a170-e390dfedb7c1",
   "metadata": {},
   "outputs": [
    {
     "data": {
      "text/plain": [
       "(45223, 15)"
      ]
     },
     "execution_count": 5,
     "metadata": {},
     "output_type": "execute_result"
    }
   ],
   "source": [
    "df.replace('?', np.nan, inplace=True)\n",
    "df.dropna(inplace=True)\n",
    "\n",
    "for col in df.select_dtypes(include=['object']).columns:\n",
    "    df[col] = df[col].map(lambda x: x.strip() if isinstance(x, str) else x)\n",
    "    \n",
    "for col in df.select_dtypes(include=[np.number]).columns:\n",
    "    df = df[df[col] >= 0]\n",
    "    \n",
    "df.shape"
   ]
  },
  {
   "cell_type": "code",
   "execution_count": 6,
   "id": "a5086665-b96d-4e57-a394-bb8d603bad7d",
   "metadata": {},
   "outputs": [
    {
     "data": {
      "text/plain": [
       "(45223, 15)"
      ]
     },
     "execution_count": 6,
     "metadata": {},
     "output_type": "execute_result"
    }
   ],
   "source": [
    "# --- n. Error Correction: Outlier removal using z-score ---\n",
    "numeric_cols = df.select_dtypes(include=[np.number]).columns\n",
    "z_scores = np.abs(zscore(df[numeric_cols]))\n",
    "df = df[(z_scores < 3).all(axis=1)]\n",
    "\n",
    "df.shape"
   ]
  },
  {
   "cell_type": "code",
   "execution_count": 13,
   "id": "b5fa42a7-84c6-4e74-bcd9-83f0fc8d5cff",
   "metadata": {},
   "outputs": [],
   "source": [
    "# --- o. Data Transformation ---\n",
    "label_encoders = {}\n",
    "for col in df.select_dtypes(include=['object']).columns:\n",
    "    le = LabelEncoder()\n",
    "    df[col] = le.fit_transform(df[col])\n",
    "    label_encoders[col] = le\n",
    "\n",
    "X = df.drop('income', axis=1)\n",
    "y = df['income']\n",
    "\n",
    "scaler = StandardScaler()\n",
    "X_scaled = scaler.fit_transform(X)\n",
    "\n",
    "X_train, X_test, y_train, y_test = train_test_split(X_scaled, y, test_size=0.2, random_state=42)"
   ]
  },
  {
   "cell_type": "code",
   "execution_count": 14,
   "id": "0ac19036-6209-4c83-a3ba-258897b3b9bb",
   "metadata": {},
   "outputs": [],
   "source": [
    "# --- p. Model Building ---\n",
    "\n",
    "# Logistic Regression\n",
    "log_model = LogisticRegression(max_iter=200)\n",
    "log_model.fit(X_train, y_train)\n",
    "log_pred = log_model.predict(X_test)\n",
    "log_acc = accuracy_score(y_test, log_pred) * 100\n",
    "\n",
    "# Naive Bayes\n",
    "nb_model = GaussianNB()\n",
    "nb_model.fit(X_train, y_train)\n",
    "nb_pred = nb_model.predict(X_test)\n",
    "nb_acc = accuracy_score(y_test, nb_pred) * 100"
   ]
  },
  {
   "cell_type": "code",
   "execution_count": 15,
   "id": "5407a8d2-ac67-4b20-a229-70bae4e2abe2",
   "metadata": {},
   "outputs": [
    {
     "name": "stdout",
     "output_type": "stream",
     "text": [
      "=== Adult Income Classification ===\n",
      "Regression Method (Logistic Regression) Accuracy: 83.32%\n",
      "Naive Bayes Method Accuracy: 79.37%\n",
      "→ Logistic Regression performed better.\n"
     ]
    }
   ],
   "source": [
    "# Print results\n",
    "print(\"=== Adult Income Classification ===\")\n",
    "print(f\"Regression Method (Logistic Regression) Accuracy: {log_acc:.2f}%\")\n",
    "print(f\"Naive Bayes Method Accuracy: {nb_acc:.2f}%\")\n",
    "\n",
    "if log_acc > nb_acc:\n",
    "    print(\"→ Logistic Regression performed better.\")\n",
    "elif nb_acc > log_acc:\n",
    "    print(\"→ Naive Bayes performed better.\")\n",
    "else:\n",
    "    print(\"→ Both models performed equally.\")"
   ]
  },
  {
   "cell_type": "code",
   "execution_count": null,
   "id": "b9f28cda-f1b3-4583-9974-a6fa4b347560",
   "metadata": {},
   "outputs": [],
   "source": []
  }
 ],
 "metadata": {
  "kernelspec": {
   "display_name": "Python 3 (ipykernel)",
   "language": "python",
   "name": "python3"
  },
  "language_info": {
   "codemirror_mode": {
    "name": "ipython",
    "version": 3
   },
   "file_extension": ".py",
   "mimetype": "text/x-python",
   "name": "python",
   "nbconvert_exporter": "python",
   "pygments_lexer": "ipython3",
   "version": "3.12.6"
  }
 },
 "nbformat": 4,
 "nbformat_minor": 5
}
